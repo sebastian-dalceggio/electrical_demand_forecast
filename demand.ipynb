{
 "cells": [
  {
   "cell_type": "code",
   "execution_count": 1,
   "metadata": {},
   "outputs": [],
   "source": [
    "from decouple import AutoConfig\n",
    "\n",
    "dconfig = AutoConfig()\n",
    "\n",
    "DATABASE_TYPE = dconfig(\"DATABASE_TYPE\")\n",
    "DATABASE_USER = dconfig(\"DATABASE_USER\")\n",
    "DATABASE_PASSWORD = dconfig(\"DATABASE_PASSWORD\")\n",
    "DATABASE_NAME = dconfig(\"DATABASE_NAME\")"
   ]
  },
  {
   "cell_type": "code",
   "execution_count": 2,
   "metadata": {},
   "outputs": [],
   "source": [
    "DATABASE_HOST = \"postgresdb.chdpwgoqvveh.us-east-1.rds.amazonaws.com:5432\""
   ]
  },
  {
   "cell_type": "code",
   "execution_count": 3,
   "metadata": {},
   "outputs": [],
   "source": [
    "from electrical_demand.database.client import ComplexClient\n",
    "\n",
    "client = ComplexClient(DATABASE_TYPE, DATABASE_NAME, DATABASE_HOST, DATABASE_USER, DATABASE_PASSWORD)"
   ]
  },
  {
   "cell_type": "code",
   "execution_count": 4,
   "metadata": {},
   "outputs": [],
   "source": [
    "from electrical_demand.process_data.getters import get_demand\n",
    "\n"
   ]
  },
  {
   "cell_type": "code",
   "execution_count": null,
   "metadata": {},
   "outputs": [],
   "source": []
  },
  {
   "cell_type": "code",
   "execution_count": 5,
   "metadata": {},
   "outputs": [],
   "source": [
    "# time-sensitive cross-validation\n",
    "\n",
    "from sklearn.model_selection import TimeSeriesSplit\n",
    "\n",
    "ts_cv = TimeSeriesSplit(\n",
    "    n_splits=5,\n",
    "    gap=48,\n",
    "    max_train_size=10000,\n",
    "    test_size=1000,\n",
    ")\n",
    "\n",
    "# all_splits = list(ts_cv.split(X, y))"
   ]
  },
  {
   "cell_type": "code",
   "execution_count": 6,
   "metadata": {},
   "outputs": [],
   "source": [
    "from sklearn.model_selection import cross_validate\n",
    "\n",
    "def evaluate(model, X, y, cv):\n",
    "    cv_results = cross_validate(\n",
    "        model,\n",
    "        X,\n",
    "        y,\n",
    "        cv=cv,\n",
    "        scoring=[\"neg_mean_absolute_error\", \"neg_root_mean_squared_error\"],\n",
    "    )\n",
    "    mae = -cv_results[\"test_neg_mean_absolute_error\"]\n",
    "    rmse = -cv_results[\"test_neg_root_mean_squared_error\"]\n",
    "    print(\n",
    "        f\"Mean Absolute Error:     {mae.mean():.3f} +/- {mae.std():.3f}\\n\"\n",
    "        f\"Root Mean Squared Error: {rmse.mean():.3f} +/- {rmse.std():.3f}\"\n",
    "    )\n"
   ]
  },
  {
   "cell_type": "code",
   "execution_count": 7,
   "metadata": {},
   "outputs": [],
   "source": [
    "import json\n",
    "\n",
    "with open(\"data/regions.json\", \"r\") as f:\n",
    "    f = f.read()\n",
    "    region_dicts = json.loads(f)"
   ]
  },
  {
   "cell_type": "code",
   "execution_count": 8,
   "metadata": {},
   "outputs": [],
   "source": [
    "from sklearn.pipeline import make_pipeline\n",
    "from sklearn.preprocessing import SplineTransformer, OneHotEncoder, MinMaxScaler\n",
    "from sklearn.compose import ColumnTransformer\n",
    "from sklearn.linear_model import RidgeCV\n",
    "from sklearn.kernel_approximation import Nystroem\n",
    "import numpy as np\n",
    "import pandas as pd\n",
    "\n",
    "categorical_columns = [\n",
    "    \"day_type\",\n",
    "    \"weekday\"\n",
    "]\n",
    "\n",
    "def periodic_spline_transformer(period, n_splines=None, degree=3):\n",
    "    if n_splines is None:\n",
    "        n_splines = period\n",
    "    n_knots = n_splines + 1  # periodic and include_bias is True\n",
    "    return SplineTransformer(\n",
    "        degree=degree,\n",
    "        n_knots=n_knots,\n",
    "        knots=np.linspace(0, period, n_knots).reshape(n_knots, 1),\n",
    "        extrapolation=\"periodic\",\n",
    "        include_bias=True,\n",
    "    )\n",
    "\n",
    "one_hot_encoder = OneHotEncoder(handle_unknown=\"ignore\", sparse=False)\n",
    "\n",
    "\n",
    "cyclic_spline_transformer = ColumnTransformer(\n",
    "    transformers=[\n",
    "        (\"categorical\", one_hot_encoder, categorical_columns),\n",
    "        (\"cyclic_month\", periodic_spline_transformer(12, n_splines=6), [\"month\"]),\n",
    "        (\"cyclic_weekday\", periodic_spline_transformer(7, n_splines=3), [\"weekday\"]),\n",
    "        (\"cyclic_hour\", periodic_spline_transformer(24, n_splines=12), [\"hour\"]),\n",
    "    ],\n",
    "    remainder=MinMaxScaler(),\n",
    ")\n",
    "\n",
    "alphas = np.logspace(-6, 6, 25)\n",
    "\n",
    "cyclic_spline_poly_pipeline = make_pipeline(\n",
    "    cyclic_spline_transformer,\n",
    "    Nystroem(kernel=\"poly\", degree=2, n_components=300, random_state=0),\n",
    "    RidgeCV(alphas=alphas),\n",
    ")\n",
    "\n"
   ]
  },
  {
   "cell_type": "code",
   "execution_count": 9,
   "metadata": {},
   "outputs": [
    {
     "name": "stdout",
     "output_type": "stream",
     "text": [
      "BUENOS AIRES\n",
      "Mean Absolute Error:     0.034 +/- 0.009\n",
      "Root Mean Squared Error: 0.043 +/- 0.010\n"
     ]
    },
    {
     "name": "stderr",
     "output_type": "stream",
     "text": [
      "/tmp/ipykernel_25011/4215263569.py:27: SettingWithCopyWarning: \n",
      "A value is trying to be set on a copy of a slice from a DataFrame.\n",
      "Try using .loc[row_indexer,col_indexer] = value instead\n",
      "\n",
      "See the caveats in the documentation: https://pandas.pydata.org/pandas-docs/stable/user_guide/indexing.html#returning-a-view-versus-a-copy\n",
      "  predict_dataset[\"demand_forecast\"] = predict_dataset[[\"day_type\", \"temperature\", \"month\", \"hour\", \"weekday\"]].apply(\n",
      "/tmp/ipykernel_25011/4215263569.py:30: SettingWithCopyWarning: \n",
      "A value is trying to be set on a copy of a slice from a DataFrame\n",
      "\n",
      "See the caveats in the documentation: https://pandas.pydata.org/pandas-docs/stable/user_guide/indexing.html#returning-a-view-versus-a-copy\n",
      "  predict_dataset.drop(columns=[\"month\", \"hour\", \"weekday\", \"day_type\", \"temperature\", \"demand\"], inplace=True)\n",
      "/tmp/ipykernel_25011/4215263569.py:31: SettingWithCopyWarning: \n",
      "A value is trying to be set on a copy of a slice from a DataFrame.\n",
      "Try using .loc[row_indexer,col_indexer] = value instead\n",
      "\n",
      "See the caveats in the documentation: https://pandas.pydata.org/pandas-docs/stable/user_guide/indexing.html#returning-a-view-versus-a-copy\n",
      "  predict_dataset[\"demand_forecast\"] = predict_dataset[\"demand_forecast\"] * max_demand\n"
     ]
    },
    {
     "name": "stdout",
     "output_type": "stream",
     "text": [
      "                     demand_forecast\n",
      "datetime                            \n",
      "2022-11-01 01:00:00      6128.755546\n",
      "2022-11-01 02:00:00      5610.553361\n",
      "2022-11-01 03:00:00      5340.731998\n",
      "2022-11-01 04:00:00      5234.548430\n",
      "2022-11-01 05:00:00      5198.558816\n",
      "CATAMARCA\n",
      "Mean Absolute Error:     0.048 +/- 0.020\n",
      "Root Mean Squared Error: 0.058 +/- 0.023\n"
     ]
    },
    {
     "name": "stderr",
     "output_type": "stream",
     "text": [
      "/tmp/ipykernel_25011/4215263569.py:27: SettingWithCopyWarning: \n",
      "A value is trying to be set on a copy of a slice from a DataFrame.\n",
      "Try using .loc[row_indexer,col_indexer] = value instead\n",
      "\n",
      "See the caveats in the documentation: https://pandas.pydata.org/pandas-docs/stable/user_guide/indexing.html#returning-a-view-versus-a-copy\n",
      "  predict_dataset[\"demand_forecast\"] = predict_dataset[[\"day_type\", \"temperature\", \"month\", \"hour\", \"weekday\"]].apply(\n",
      "/tmp/ipykernel_25011/4215263569.py:30: SettingWithCopyWarning: \n",
      "A value is trying to be set on a copy of a slice from a DataFrame\n",
      "\n",
      "See the caveats in the documentation: https://pandas.pydata.org/pandas-docs/stable/user_guide/indexing.html#returning-a-view-versus-a-copy\n",
      "  predict_dataset.drop(columns=[\"month\", \"hour\", \"weekday\", \"day_type\", \"temperature\", \"demand\"], inplace=True)\n",
      "/tmp/ipykernel_25011/4215263569.py:31: SettingWithCopyWarning: \n",
      "A value is trying to be set on a copy of a slice from a DataFrame.\n",
      "Try using .loc[row_indexer,col_indexer] = value instead\n",
      "\n",
      "See the caveats in the documentation: https://pandas.pydata.org/pandas-docs/stable/user_guide/indexing.html#returning-a-view-versus-a-copy\n",
      "  predict_dataset[\"demand_forecast\"] = predict_dataset[\"demand_forecast\"] * max_demand\n"
     ]
    },
    {
     "name": "stdout",
     "output_type": "stream",
     "text": [
      "                     demand_forecast\n",
      "datetime                            \n",
      "2022-11-01 01:00:00       121.297558\n",
      "2022-11-01 02:00:00       109.404970\n",
      "2022-11-01 03:00:00       100.484370\n",
      "2022-11-01 04:00:00        95.382080\n",
      "2022-11-01 05:00:00        93.148690\n",
      "CHACO\n",
      "Mean Absolute Error:     0.032 +/- 0.005\n",
      "Root Mean Squared Error: 0.042 +/- 0.005\n"
     ]
    },
    {
     "name": "stderr",
     "output_type": "stream",
     "text": [
      "/tmp/ipykernel_25011/4215263569.py:27: SettingWithCopyWarning: \n",
      "A value is trying to be set on a copy of a slice from a DataFrame.\n",
      "Try using .loc[row_indexer,col_indexer] = value instead\n",
      "\n",
      "See the caveats in the documentation: https://pandas.pydata.org/pandas-docs/stable/user_guide/indexing.html#returning-a-view-versus-a-copy\n",
      "  predict_dataset[\"demand_forecast\"] = predict_dataset[[\"day_type\", \"temperature\", \"month\", \"hour\", \"weekday\"]].apply(\n",
      "/tmp/ipykernel_25011/4215263569.py:30: SettingWithCopyWarning: \n",
      "A value is trying to be set on a copy of a slice from a DataFrame\n",
      "\n",
      "See the caveats in the documentation: https://pandas.pydata.org/pandas-docs/stable/user_guide/indexing.html#returning-a-view-versus-a-copy\n",
      "  predict_dataset.drop(columns=[\"month\", \"hour\", \"weekday\", \"day_type\", \"temperature\", \"demand\"], inplace=True)\n",
      "/tmp/ipykernel_25011/4215263569.py:31: SettingWithCopyWarning: \n",
      "A value is trying to be set on a copy of a slice from a DataFrame.\n",
      "Try using .loc[row_indexer,col_indexer] = value instead\n",
      "\n",
      "See the caveats in the documentation: https://pandas.pydata.org/pandas-docs/stable/user_guide/indexing.html#returning-a-view-versus-a-copy\n",
      "  predict_dataset[\"demand_forecast\"] = predict_dataset[\"demand_forecast\"] * max_demand\n"
     ]
    },
    {
     "name": "stdout",
     "output_type": "stream",
     "text": [
      "                     demand_forecast\n",
      "datetime                            \n",
      "2022-11-01 01:00:00       246.023635\n",
      "2022-11-01 02:00:00       221.665720\n",
      "2022-11-01 03:00:00       200.700713\n",
      "2022-11-01 04:00:00       189.329521\n",
      "2022-11-01 05:00:00       187.022671\n",
      "CHUBUT\n",
      "Mean Absolute Error:     0.071 +/- 0.019\n",
      "Root Mean Squared Error: 0.081 +/- 0.021\n"
     ]
    },
    {
     "name": "stderr",
     "output_type": "stream",
     "text": [
      "/tmp/ipykernel_25011/4215263569.py:27: SettingWithCopyWarning: \n",
      "A value is trying to be set on a copy of a slice from a DataFrame.\n",
      "Try using .loc[row_indexer,col_indexer] = value instead\n",
      "\n",
      "See the caveats in the documentation: https://pandas.pydata.org/pandas-docs/stable/user_guide/indexing.html#returning-a-view-versus-a-copy\n",
      "  predict_dataset[\"demand_forecast\"] = predict_dataset[[\"day_type\", \"temperature\", \"month\", \"hour\", \"weekday\"]].apply(\n",
      "/tmp/ipykernel_25011/4215263569.py:30: SettingWithCopyWarning: \n",
      "A value is trying to be set on a copy of a slice from a DataFrame\n",
      "\n",
      "See the caveats in the documentation: https://pandas.pydata.org/pandas-docs/stable/user_guide/indexing.html#returning-a-view-versus-a-copy\n",
      "  predict_dataset.drop(columns=[\"month\", \"hour\", \"weekday\", \"day_type\", \"temperature\", \"demand\"], inplace=True)\n",
      "/tmp/ipykernel_25011/4215263569.py:31: SettingWithCopyWarning: \n",
      "A value is trying to be set on a copy of a slice from a DataFrame.\n",
      "Try using .loc[row_indexer,col_indexer] = value instead\n",
      "\n",
      "See the caveats in the documentation: https://pandas.pydata.org/pandas-docs/stable/user_guide/indexing.html#returning-a-view-versus-a-copy\n",
      "  predict_dataset[\"demand_forecast\"] = predict_dataset[\"demand_forecast\"] * max_demand\n"
     ]
    },
    {
     "name": "stdout",
     "output_type": "stream",
     "text": [
      "                     demand_forecast\n",
      "datetime                            \n",
      "2022-11-01 01:00:00       519.718441\n",
      "2022-11-01 02:00:00       507.069670\n",
      "2022-11-01 03:00:00       502.277526\n",
      "2022-11-01 04:00:00       498.526689\n",
      "2022-11-01 05:00:00       493.101751\n",
      "CORDOBA\n",
      "Mean Absolute Error:     0.033 +/- 0.013\n",
      "Root Mean Squared Error: 0.040 +/- 0.014\n"
     ]
    },
    {
     "name": "stderr",
     "output_type": "stream",
     "text": [
      "/tmp/ipykernel_25011/4215263569.py:27: SettingWithCopyWarning: \n",
      "A value is trying to be set on a copy of a slice from a DataFrame.\n",
      "Try using .loc[row_indexer,col_indexer] = value instead\n",
      "\n",
      "See the caveats in the documentation: https://pandas.pydata.org/pandas-docs/stable/user_guide/indexing.html#returning-a-view-versus-a-copy\n",
      "  predict_dataset[\"demand_forecast\"] = predict_dataset[[\"day_type\", \"temperature\", \"month\", \"hour\", \"weekday\"]].apply(\n",
      "/tmp/ipykernel_25011/4215263569.py:30: SettingWithCopyWarning: \n",
      "A value is trying to be set on a copy of a slice from a DataFrame\n",
      "\n",
      "See the caveats in the documentation: https://pandas.pydata.org/pandas-docs/stable/user_guide/indexing.html#returning-a-view-versus-a-copy\n",
      "  predict_dataset.drop(columns=[\"month\", \"hour\", \"weekday\", \"day_type\", \"temperature\", \"demand\"], inplace=True)\n",
      "/tmp/ipykernel_25011/4215263569.py:31: SettingWithCopyWarning: \n",
      "A value is trying to be set on a copy of a slice from a DataFrame.\n",
      "Try using .loc[row_indexer,col_indexer] = value instead\n",
      "\n",
      "See the caveats in the documentation: https://pandas.pydata.org/pandas-docs/stable/user_guide/indexing.html#returning-a-view-versus-a-copy\n",
      "  predict_dataset[\"demand_forecast\"] = predict_dataset[\"demand_forecast\"] * max_demand\n"
     ]
    },
    {
     "name": "stdout",
     "output_type": "stream",
     "text": [
      "                     demand_forecast\n",
      "datetime                            \n",
      "2022-11-01 01:00:00       946.246092\n",
      "2022-11-01 02:00:00       856.760237\n",
      "2022-11-01 03:00:00       808.662823\n",
      "2022-11-01 04:00:00       794.141546\n",
      "2022-11-01 05:00:00       794.735903\n",
      "CORRIENTES\n",
      "Mean Absolute Error:     0.028 +/- 0.005\n",
      "Root Mean Squared Error: 0.036 +/- 0.005\n"
     ]
    },
    {
     "name": "stderr",
     "output_type": "stream",
     "text": [
      "/tmp/ipykernel_25011/4215263569.py:27: SettingWithCopyWarning: \n",
      "A value is trying to be set on a copy of a slice from a DataFrame.\n",
      "Try using .loc[row_indexer,col_indexer] = value instead\n",
      "\n",
      "See the caveats in the documentation: https://pandas.pydata.org/pandas-docs/stable/user_guide/indexing.html#returning-a-view-versus-a-copy\n",
      "  predict_dataset[\"demand_forecast\"] = predict_dataset[[\"day_type\", \"temperature\", \"month\", \"hour\", \"weekday\"]].apply(\n",
      "/tmp/ipykernel_25011/4215263569.py:30: SettingWithCopyWarning: \n",
      "A value is trying to be set on a copy of a slice from a DataFrame\n",
      "\n",
      "See the caveats in the documentation: https://pandas.pydata.org/pandas-docs/stable/user_guide/indexing.html#returning-a-view-versus-a-copy\n",
      "  predict_dataset.drop(columns=[\"month\", \"hour\", \"weekday\", \"day_type\", \"temperature\", \"demand\"], inplace=True)\n",
      "/tmp/ipykernel_25011/4215263569.py:31: SettingWithCopyWarning: \n",
      "A value is trying to be set on a copy of a slice from a DataFrame.\n",
      "Try using .loc[row_indexer,col_indexer] = value instead\n",
      "\n",
      "See the caveats in the documentation: https://pandas.pydata.org/pandas-docs/stable/user_guide/indexing.html#returning-a-view-versus-a-copy\n",
      "  predict_dataset[\"demand_forecast\"] = predict_dataset[\"demand_forecast\"] * max_demand\n"
     ]
    },
    {
     "name": "stdout",
     "output_type": "stream",
     "text": [
      "                     demand_forecast\n",
      "datetime                            \n",
      "2022-11-01 01:00:00       251.565794\n",
      "2022-11-01 02:00:00       227.359243\n",
      "2022-11-01 03:00:00       211.133069\n",
      "2022-11-01 04:00:00       201.254222\n",
      "2022-11-01 05:00:00       196.601999\n",
      "ENTRE RIOS\n",
      "Mean Absolute Error:     0.021 +/- 0.009\n",
      "Root Mean Squared Error: 0.027 +/- 0.009\n"
     ]
    },
    {
     "name": "stderr",
     "output_type": "stream",
     "text": [
      "/tmp/ipykernel_25011/4215263569.py:27: SettingWithCopyWarning: \n",
      "A value is trying to be set on a copy of a slice from a DataFrame.\n",
      "Try using .loc[row_indexer,col_indexer] = value instead\n",
      "\n",
      "See the caveats in the documentation: https://pandas.pydata.org/pandas-docs/stable/user_guide/indexing.html#returning-a-view-versus-a-copy\n",
      "  predict_dataset[\"demand_forecast\"] = predict_dataset[[\"day_type\", \"temperature\", \"month\", \"hour\", \"weekday\"]].apply(\n",
      "/tmp/ipykernel_25011/4215263569.py:30: SettingWithCopyWarning: \n",
      "A value is trying to be set on a copy of a slice from a DataFrame\n",
      "\n",
      "See the caveats in the documentation: https://pandas.pydata.org/pandas-docs/stable/user_guide/indexing.html#returning-a-view-versus-a-copy\n",
      "  predict_dataset.drop(columns=[\"month\", \"hour\", \"weekday\", \"day_type\", \"temperature\", \"demand\"], inplace=True)\n",
      "/tmp/ipykernel_25011/4215263569.py:31: SettingWithCopyWarning: \n",
      "A value is trying to be set on a copy of a slice from a DataFrame.\n",
      "Try using .loc[row_indexer,col_indexer] = value instead\n",
      "\n",
      "See the caveats in the documentation: https://pandas.pydata.org/pandas-docs/stable/user_guide/indexing.html#returning-a-view-versus-a-copy\n",
      "  predict_dataset[\"demand_forecast\"] = predict_dataset[\"demand_forecast\"] * max_demand\n"
     ]
    },
    {
     "name": "stdout",
     "output_type": "stream",
     "text": [
      "                     demand_forecast\n",
      "datetime                            \n",
      "2022-11-01 01:00:00       329.930405\n",
      "2022-11-01 02:00:00       305.506231\n",
      "2022-11-01 03:00:00       296.452029\n",
      "2022-11-01 04:00:00       296.094134\n",
      "2022-11-01 05:00:00       300.740595\n",
      "FORMOSA\n",
      "Mean Absolute Error:     0.032 +/- 0.002\n",
      "Root Mean Squared Error: 0.042 +/- 0.003\n"
     ]
    },
    {
     "name": "stderr",
     "output_type": "stream",
     "text": [
      "/tmp/ipykernel_25011/4215263569.py:27: SettingWithCopyWarning: \n",
      "A value is trying to be set on a copy of a slice from a DataFrame.\n",
      "Try using .loc[row_indexer,col_indexer] = value instead\n",
      "\n",
      "See the caveats in the documentation: https://pandas.pydata.org/pandas-docs/stable/user_guide/indexing.html#returning-a-view-versus-a-copy\n",
      "  predict_dataset[\"demand_forecast\"] = predict_dataset[[\"day_type\", \"temperature\", \"month\", \"hour\", \"weekday\"]].apply(\n",
      "/tmp/ipykernel_25011/4215263569.py:30: SettingWithCopyWarning: \n",
      "A value is trying to be set on a copy of a slice from a DataFrame\n",
      "\n",
      "See the caveats in the documentation: https://pandas.pydata.org/pandas-docs/stable/user_guide/indexing.html#returning-a-view-versus-a-copy\n",
      "  predict_dataset.drop(columns=[\"month\", \"hour\", \"weekday\", \"day_type\", \"temperature\", \"demand\"], inplace=True)\n",
      "/tmp/ipykernel_25011/4215263569.py:31: SettingWithCopyWarning: \n",
      "A value is trying to be set on a copy of a slice from a DataFrame.\n",
      "Try using .loc[row_indexer,col_indexer] = value instead\n",
      "\n",
      "See the caveats in the documentation: https://pandas.pydata.org/pandas-docs/stable/user_guide/indexing.html#returning-a-view-versus-a-copy\n",
      "  predict_dataset[\"demand_forecast\"] = predict_dataset[\"demand_forecast\"] * max_demand\n"
     ]
    },
    {
     "name": "stdout",
     "output_type": "stream",
     "text": [
      "                     demand_forecast\n",
      "datetime                            \n",
      "2022-11-01 01:00:00        95.916005\n",
      "2022-11-01 02:00:00        88.414901\n",
      "2022-11-01 03:00:00        84.667865\n",
      "2022-11-01 04:00:00        83.441951\n",
      "2022-11-01 05:00:00        81.964457\n",
      "JUJUY\n",
      "Mean Absolute Error:     0.029 +/- 0.006\n",
      "Root Mean Squared Error: 0.037 +/- 0.008\n"
     ]
    },
    {
     "name": "stderr",
     "output_type": "stream",
     "text": [
      "/tmp/ipykernel_25011/4215263569.py:27: SettingWithCopyWarning: \n",
      "A value is trying to be set on a copy of a slice from a DataFrame.\n",
      "Try using .loc[row_indexer,col_indexer] = value instead\n",
      "\n",
      "See the caveats in the documentation: https://pandas.pydata.org/pandas-docs/stable/user_guide/indexing.html#returning-a-view-versus-a-copy\n",
      "  predict_dataset[\"demand_forecast\"] = predict_dataset[[\"day_type\", \"temperature\", \"month\", \"hour\", \"weekday\"]].apply(\n",
      "/tmp/ipykernel_25011/4215263569.py:30: SettingWithCopyWarning: \n",
      "A value is trying to be set on a copy of a slice from a DataFrame\n",
      "\n",
      "See the caveats in the documentation: https://pandas.pydata.org/pandas-docs/stable/user_guide/indexing.html#returning-a-view-versus-a-copy\n",
      "  predict_dataset.drop(columns=[\"month\", \"hour\", \"weekday\", \"day_type\", \"temperature\", \"demand\"], inplace=True)\n",
      "/tmp/ipykernel_25011/4215263569.py:31: SettingWithCopyWarning: \n",
      "A value is trying to be set on a copy of a slice from a DataFrame.\n",
      "Try using .loc[row_indexer,col_indexer] = value instead\n",
      "\n",
      "See the caveats in the documentation: https://pandas.pydata.org/pandas-docs/stable/user_guide/indexing.html#returning-a-view-versus-a-copy\n",
      "  predict_dataset[\"demand_forecast\"] = predict_dataset[\"demand_forecast\"] * max_demand\n"
     ]
    },
    {
     "name": "stdout",
     "output_type": "stream",
     "text": [
      "                     demand_forecast\n",
      "datetime                            \n",
      "2022-11-01 01:00:00       113.264364\n",
      "2022-11-01 02:00:00        99.249649\n",
      "2022-11-01 03:00:00        91.259692\n",
      "2022-11-01 04:00:00        87.576634\n",
      "2022-11-01 05:00:00        86.080551\n",
      "LA PAMPA\n",
      "Mean Absolute Error:     0.019 +/- 0.006\n",
      "Root Mean Squared Error: 0.023 +/- 0.007\n"
     ]
    },
    {
     "name": "stderr",
     "output_type": "stream",
     "text": [
      "/tmp/ipykernel_25011/4215263569.py:27: SettingWithCopyWarning: \n",
      "A value is trying to be set on a copy of a slice from a DataFrame.\n",
      "Try using .loc[row_indexer,col_indexer] = value instead\n",
      "\n",
      "See the caveats in the documentation: https://pandas.pydata.org/pandas-docs/stable/user_guide/indexing.html#returning-a-view-versus-a-copy\n",
      "  predict_dataset[\"demand_forecast\"] = predict_dataset[[\"day_type\", \"temperature\", \"month\", \"hour\", \"weekday\"]].apply(\n",
      "/tmp/ipykernel_25011/4215263569.py:30: SettingWithCopyWarning: \n",
      "A value is trying to be set on a copy of a slice from a DataFrame\n",
      "\n",
      "See the caveats in the documentation: https://pandas.pydata.org/pandas-docs/stable/user_guide/indexing.html#returning-a-view-versus-a-copy\n",
      "  predict_dataset.drop(columns=[\"month\", \"hour\", \"weekday\", \"day_type\", \"temperature\", \"demand\"], inplace=True)\n",
      "/tmp/ipykernel_25011/4215263569.py:31: SettingWithCopyWarning: \n",
      "A value is trying to be set on a copy of a slice from a DataFrame.\n",
      "Try using .loc[row_indexer,col_indexer] = value instead\n",
      "\n",
      "See the caveats in the documentation: https://pandas.pydata.org/pandas-docs/stable/user_guide/indexing.html#returning-a-view-versus-a-copy\n",
      "  predict_dataset[\"demand_forecast\"] = predict_dataset[\"demand_forecast\"] * max_demand\n"
     ]
    },
    {
     "name": "stdout",
     "output_type": "stream",
     "text": [
      "                     demand_forecast\n",
      "datetime                            \n",
      "2022-11-01 01:00:00        83.587593\n",
      "2022-11-01 02:00:00        77.136505\n",
      "2022-11-01 03:00:00        74.624454\n",
      "2022-11-01 04:00:00        73.691855\n",
      "2022-11-01 05:00:00        73.034256\n",
      "LA RIOJA\n",
      "Mean Absolute Error:     0.031 +/- 0.008\n",
      "Root Mean Squared Error: 0.039 +/- 0.010\n"
     ]
    },
    {
     "name": "stderr",
     "output_type": "stream",
     "text": [
      "/tmp/ipykernel_25011/4215263569.py:27: SettingWithCopyWarning: \n",
      "A value is trying to be set on a copy of a slice from a DataFrame.\n",
      "Try using .loc[row_indexer,col_indexer] = value instead\n",
      "\n",
      "See the caveats in the documentation: https://pandas.pydata.org/pandas-docs/stable/user_guide/indexing.html#returning-a-view-versus-a-copy\n",
      "  predict_dataset[\"demand_forecast\"] = predict_dataset[[\"day_type\", \"temperature\", \"month\", \"hour\", \"weekday\"]].apply(\n",
      "/tmp/ipykernel_25011/4215263569.py:30: SettingWithCopyWarning: \n",
      "A value is trying to be set on a copy of a slice from a DataFrame\n",
      "\n",
      "See the caveats in the documentation: https://pandas.pydata.org/pandas-docs/stable/user_guide/indexing.html#returning-a-view-versus-a-copy\n",
      "  predict_dataset.drop(columns=[\"month\", \"hour\", \"weekday\", \"day_type\", \"temperature\", \"demand\"], inplace=True)\n",
      "/tmp/ipykernel_25011/4215263569.py:31: SettingWithCopyWarning: \n",
      "A value is trying to be set on a copy of a slice from a DataFrame.\n",
      "Try using .loc[row_indexer,col_indexer] = value instead\n",
      "\n",
      "See the caveats in the documentation: https://pandas.pydata.org/pandas-docs/stable/user_guide/indexing.html#returning-a-view-versus-a-copy\n",
      "  predict_dataset[\"demand_forecast\"] = predict_dataset[\"demand_forecast\"] * max_demand\n"
     ]
    },
    {
     "name": "stdout",
     "output_type": "stream",
     "text": [
      "                     demand_forecast\n",
      "datetime                            \n",
      "2022-11-01 01:00:00       160.058167\n",
      "2022-11-01 02:00:00       147.548399\n",
      "2022-11-01 03:00:00       137.415799\n",
      "2022-11-01 04:00:00       131.705454\n",
      "2022-11-01 05:00:00       128.685538\n",
      "MENDOZA\n",
      "Mean Absolute Error:     0.025 +/- 0.008\n",
      "Root Mean Squared Error: 0.030 +/- 0.008\n"
     ]
    },
    {
     "name": "stderr",
     "output_type": "stream",
     "text": [
      "/tmp/ipykernel_25011/4215263569.py:27: SettingWithCopyWarning: \n",
      "A value is trying to be set on a copy of a slice from a DataFrame.\n",
      "Try using .loc[row_indexer,col_indexer] = value instead\n",
      "\n",
      "See the caveats in the documentation: https://pandas.pydata.org/pandas-docs/stable/user_guide/indexing.html#returning-a-view-versus-a-copy\n",
      "  predict_dataset[\"demand_forecast\"] = predict_dataset[[\"day_type\", \"temperature\", \"month\", \"hour\", \"weekday\"]].apply(\n",
      "/tmp/ipykernel_25011/4215263569.py:30: SettingWithCopyWarning: \n",
      "A value is trying to be set on a copy of a slice from a DataFrame\n",
      "\n",
      "See the caveats in the documentation: https://pandas.pydata.org/pandas-docs/stable/user_guide/indexing.html#returning-a-view-versus-a-copy\n",
      "  predict_dataset.drop(columns=[\"month\", \"hour\", \"weekday\", \"day_type\", \"temperature\", \"demand\"], inplace=True)\n",
      "/tmp/ipykernel_25011/4215263569.py:31: SettingWithCopyWarning: \n",
      "A value is trying to be set on a copy of a slice from a DataFrame.\n",
      "Try using .loc[row_indexer,col_indexer] = value instead\n",
      "\n",
      "See the caveats in the documentation: https://pandas.pydata.org/pandas-docs/stable/user_guide/indexing.html#returning-a-view-versus-a-copy\n",
      "  predict_dataset[\"demand_forecast\"] = predict_dataset[\"demand_forecast\"] * max_demand\n"
     ]
    },
    {
     "name": "stdout",
     "output_type": "stream",
     "text": [
      "                     demand_forecast\n",
      "datetime                            \n",
      "2022-11-01 01:00:00       624.849879\n",
      "2022-11-01 02:00:00       584.911142\n",
      "2022-11-01 03:00:00       564.123078\n",
      "2022-11-01 04:00:00       555.517888\n",
      "2022-11-01 05:00:00       553.340179\n",
      "MISIONES\n",
      "Mean Absolute Error:     0.066 +/- 0.030\n",
      "Root Mean Squared Error: 0.080 +/- 0.034\n"
     ]
    },
    {
     "name": "stderr",
     "output_type": "stream",
     "text": [
      "/tmp/ipykernel_25011/4215263569.py:27: SettingWithCopyWarning: \n",
      "A value is trying to be set on a copy of a slice from a DataFrame.\n",
      "Try using .loc[row_indexer,col_indexer] = value instead\n",
      "\n",
      "See the caveats in the documentation: https://pandas.pydata.org/pandas-docs/stable/user_guide/indexing.html#returning-a-view-versus-a-copy\n",
      "  predict_dataset[\"demand_forecast\"] = predict_dataset[[\"day_type\", \"temperature\", \"month\", \"hour\", \"weekday\"]].apply(\n",
      "/tmp/ipykernel_25011/4215263569.py:30: SettingWithCopyWarning: \n",
      "A value is trying to be set on a copy of a slice from a DataFrame\n",
      "\n",
      "See the caveats in the documentation: https://pandas.pydata.org/pandas-docs/stable/user_guide/indexing.html#returning-a-view-versus-a-copy\n",
      "  predict_dataset.drop(columns=[\"month\", \"hour\", \"weekday\", \"day_type\", \"temperature\", \"demand\"], inplace=True)\n",
      "/tmp/ipykernel_25011/4215263569.py:31: SettingWithCopyWarning: \n",
      "A value is trying to be set on a copy of a slice from a DataFrame.\n",
      "Try using .loc[row_indexer,col_indexer] = value instead\n",
      "\n",
      "See the caveats in the documentation: https://pandas.pydata.org/pandas-docs/stable/user_guide/indexing.html#returning-a-view-versus-a-copy\n",
      "  predict_dataset[\"demand_forecast\"] = predict_dataset[\"demand_forecast\"] * max_demand\n"
     ]
    },
    {
     "name": "stdout",
     "output_type": "stream",
     "text": [
      "                     demand_forecast\n",
      "datetime                            \n",
      "2022-11-01 01:00:00       271.432088\n",
      "2022-11-01 02:00:00       252.827543\n",
      "2022-11-01 03:00:00       239.190047\n",
      "2022-11-01 04:00:00       226.459544\n",
      "2022-11-01 05:00:00       216.327813\n",
      "NEUQUEN\n",
      "Mean Absolute Error:     0.027 +/- 0.009\n",
      "Root Mean Squared Error: 0.033 +/- 0.010\n"
     ]
    },
    {
     "name": "stderr",
     "output_type": "stream",
     "text": [
      "/tmp/ipykernel_25011/4215263569.py:27: SettingWithCopyWarning: \n",
      "A value is trying to be set on a copy of a slice from a DataFrame.\n",
      "Try using .loc[row_indexer,col_indexer] = value instead\n",
      "\n",
      "See the caveats in the documentation: https://pandas.pydata.org/pandas-docs/stable/user_guide/indexing.html#returning-a-view-versus-a-copy\n",
      "  predict_dataset[\"demand_forecast\"] = predict_dataset[[\"day_type\", \"temperature\", \"month\", \"hour\", \"weekday\"]].apply(\n",
      "/tmp/ipykernel_25011/4215263569.py:30: SettingWithCopyWarning: \n",
      "A value is trying to be set on a copy of a slice from a DataFrame\n",
      "\n",
      "See the caveats in the documentation: https://pandas.pydata.org/pandas-docs/stable/user_guide/indexing.html#returning-a-view-versus-a-copy\n",
      "  predict_dataset.drop(columns=[\"month\", \"hour\", \"weekday\", \"day_type\", \"temperature\", \"demand\"], inplace=True)\n",
      "/tmp/ipykernel_25011/4215263569.py:31: SettingWithCopyWarning: \n",
      "A value is trying to be set on a copy of a slice from a DataFrame.\n",
      "Try using .loc[row_indexer,col_indexer] = value instead\n",
      "\n",
      "See the caveats in the documentation: https://pandas.pydata.org/pandas-docs/stable/user_guide/indexing.html#returning-a-view-versus-a-copy\n",
      "  predict_dataset[\"demand_forecast\"] = predict_dataset[\"demand_forecast\"] * max_demand\n"
     ]
    },
    {
     "name": "stdout",
     "output_type": "stream",
     "text": [
      "                     demand_forecast\n",
      "datetime                            \n",
      "2022-11-01 01:00:00       225.051653\n",
      "2022-11-01 02:00:00       210.306295\n",
      "2022-11-01 03:00:00       202.300848\n",
      "2022-11-01 04:00:00       198.816519\n",
      "2022-11-01 05:00:00       196.813807\n",
      "RIO NEGRO\n",
      "Mean Absolute Error:     0.029 +/- 0.008\n",
      "Root Mean Squared Error: 0.033 +/- 0.009\n"
     ]
    },
    {
     "name": "stderr",
     "output_type": "stream",
     "text": [
      "/tmp/ipykernel_25011/4215263569.py:27: SettingWithCopyWarning: \n",
      "A value is trying to be set on a copy of a slice from a DataFrame.\n",
      "Try using .loc[row_indexer,col_indexer] = value instead\n",
      "\n",
      "See the caveats in the documentation: https://pandas.pydata.org/pandas-docs/stable/user_guide/indexing.html#returning-a-view-versus-a-copy\n",
      "  predict_dataset[\"demand_forecast\"] = predict_dataset[[\"day_type\", \"temperature\", \"month\", \"hour\", \"weekday\"]].apply(\n",
      "/tmp/ipykernel_25011/4215263569.py:30: SettingWithCopyWarning: \n",
      "A value is trying to be set on a copy of a slice from a DataFrame\n",
      "\n",
      "See the caveats in the documentation: https://pandas.pydata.org/pandas-docs/stable/user_guide/indexing.html#returning-a-view-versus-a-copy\n",
      "  predict_dataset.drop(columns=[\"month\", \"hour\", \"weekday\", \"day_type\", \"temperature\", \"demand\"], inplace=True)\n",
      "/tmp/ipykernel_25011/4215263569.py:31: SettingWithCopyWarning: \n",
      "A value is trying to be set on a copy of a slice from a DataFrame.\n",
      "Try using .loc[row_indexer,col_indexer] = value instead\n",
      "\n",
      "See the caveats in the documentation: https://pandas.pydata.org/pandas-docs/stable/user_guide/indexing.html#returning-a-view-versus-a-copy\n",
      "  predict_dataset[\"demand_forecast\"] = predict_dataset[\"demand_forecast\"] * max_demand\n"
     ]
    },
    {
     "name": "stdout",
     "output_type": "stream",
     "text": [
      "                     demand_forecast\n",
      "datetime                            \n",
      "2022-11-01 01:00:00       202.141901\n",
      "2022-11-01 02:00:00       186.437266\n",
      "2022-11-01 03:00:00       178.044272\n",
      "2022-11-01 04:00:00       174.110257\n",
      "2022-11-01 05:00:00       171.227920\n",
      "SALTA\n",
      "Mean Absolute Error:     0.033 +/- 0.012\n",
      "Root Mean Squared Error: 0.041 +/- 0.014\n"
     ]
    },
    {
     "name": "stderr",
     "output_type": "stream",
     "text": [
      "/tmp/ipykernel_25011/4215263569.py:27: SettingWithCopyWarning: \n",
      "A value is trying to be set on a copy of a slice from a DataFrame.\n",
      "Try using .loc[row_indexer,col_indexer] = value instead\n",
      "\n",
      "See the caveats in the documentation: https://pandas.pydata.org/pandas-docs/stable/user_guide/indexing.html#returning-a-view-versus-a-copy\n",
      "  predict_dataset[\"demand_forecast\"] = predict_dataset[[\"day_type\", \"temperature\", \"month\", \"hour\", \"weekday\"]].apply(\n",
      "/tmp/ipykernel_25011/4215263569.py:30: SettingWithCopyWarning: \n",
      "A value is trying to be set on a copy of a slice from a DataFrame\n",
      "\n",
      "See the caveats in the documentation: https://pandas.pydata.org/pandas-docs/stable/user_guide/indexing.html#returning-a-view-versus-a-copy\n",
      "  predict_dataset.drop(columns=[\"month\", \"hour\", \"weekday\", \"day_type\", \"temperature\", \"demand\"], inplace=True)\n",
      "/tmp/ipykernel_25011/4215263569.py:31: SettingWithCopyWarning: \n",
      "A value is trying to be set on a copy of a slice from a DataFrame.\n",
      "Try using .loc[row_indexer,col_indexer] = value instead\n",
      "\n",
      "See the caveats in the documentation: https://pandas.pydata.org/pandas-docs/stable/user_guide/indexing.html#returning-a-view-versus-a-copy\n",
      "  predict_dataset[\"demand_forecast\"] = predict_dataset[\"demand_forecast\"] * max_demand\n"
     ]
    },
    {
     "name": "stdout",
     "output_type": "stream",
     "text": [
      "                     demand_forecast\n",
      "datetime                            \n",
      "2022-11-01 01:00:00       208.407681\n",
      "2022-11-01 02:00:00       184.911617\n",
      "2022-11-01 03:00:00       169.546226\n",
      "2022-11-01 04:00:00       162.154056\n",
      "2022-11-01 05:00:00       160.198033\n",
      "SAN JUAN\n",
      "Mean Absolute Error:     0.030 +/- 0.011\n",
      "Root Mean Squared Error: 0.038 +/- 0.012\n"
     ]
    },
    {
     "name": "stderr",
     "output_type": "stream",
     "text": [
      "/tmp/ipykernel_25011/4215263569.py:27: SettingWithCopyWarning: \n",
      "A value is trying to be set on a copy of a slice from a DataFrame.\n",
      "Try using .loc[row_indexer,col_indexer] = value instead\n",
      "\n",
      "See the caveats in the documentation: https://pandas.pydata.org/pandas-docs/stable/user_guide/indexing.html#returning-a-view-versus-a-copy\n",
      "  predict_dataset[\"demand_forecast\"] = predict_dataset[[\"day_type\", \"temperature\", \"month\", \"hour\", \"weekday\"]].apply(\n",
      "/tmp/ipykernel_25011/4215263569.py:30: SettingWithCopyWarning: \n",
      "A value is trying to be set on a copy of a slice from a DataFrame\n",
      "\n",
      "See the caveats in the documentation: https://pandas.pydata.org/pandas-docs/stable/user_guide/indexing.html#returning-a-view-versus-a-copy\n",
      "  predict_dataset.drop(columns=[\"month\", \"hour\", \"weekday\", \"day_type\", \"temperature\", \"demand\"], inplace=True)\n",
      "/tmp/ipykernel_25011/4215263569.py:31: SettingWithCopyWarning: \n",
      "A value is trying to be set on a copy of a slice from a DataFrame.\n",
      "Try using .loc[row_indexer,col_indexer] = value instead\n",
      "\n",
      "See the caveats in the documentation: https://pandas.pydata.org/pandas-docs/stable/user_guide/indexing.html#returning-a-view-versus-a-copy\n",
      "  predict_dataset[\"demand_forecast\"] = predict_dataset[\"demand_forecast\"] * max_demand\n"
     ]
    },
    {
     "name": "stdout",
     "output_type": "stream",
     "text": [
      "                     demand_forecast\n",
      "datetime                            \n",
      "2022-11-01 01:00:00       215.804357\n",
      "2022-11-01 02:00:00       201.710778\n",
      "2022-11-01 03:00:00       191.890459\n",
      "2022-11-01 04:00:00       187.448674\n",
      "2022-11-01 05:00:00       188.220994\n",
      "SAN LUIS\n",
      "Mean Absolute Error:     0.042 +/- 0.015\n",
      "Root Mean Squared Error: 0.049 +/- 0.015\n"
     ]
    },
    {
     "name": "stderr",
     "output_type": "stream",
     "text": [
      "/tmp/ipykernel_25011/4215263569.py:27: SettingWithCopyWarning: \n",
      "A value is trying to be set on a copy of a slice from a DataFrame.\n",
      "Try using .loc[row_indexer,col_indexer] = value instead\n",
      "\n",
      "See the caveats in the documentation: https://pandas.pydata.org/pandas-docs/stable/user_guide/indexing.html#returning-a-view-versus-a-copy\n",
      "  predict_dataset[\"demand_forecast\"] = predict_dataset[[\"day_type\", \"temperature\", \"month\", \"hour\", \"weekday\"]].apply(\n",
      "/tmp/ipykernel_25011/4215263569.py:30: SettingWithCopyWarning: \n",
      "A value is trying to be set on a copy of a slice from a DataFrame\n",
      "\n",
      "See the caveats in the documentation: https://pandas.pydata.org/pandas-docs/stable/user_guide/indexing.html#returning-a-view-versus-a-copy\n",
      "  predict_dataset.drop(columns=[\"month\", \"hour\", \"weekday\", \"day_type\", \"temperature\", \"demand\"], inplace=True)\n",
      "/tmp/ipykernel_25011/4215263569.py:31: SettingWithCopyWarning: \n",
      "A value is trying to be set on a copy of a slice from a DataFrame.\n",
      "Try using .loc[row_indexer,col_indexer] = value instead\n",
      "\n",
      "See the caveats in the documentation: https://pandas.pydata.org/pandas-docs/stable/user_guide/indexing.html#returning-a-view-versus-a-copy\n",
      "  predict_dataset[\"demand_forecast\"] = predict_dataset[\"demand_forecast\"] * max_demand\n"
     ]
    },
    {
     "name": "stdout",
     "output_type": "stream",
     "text": [
      "                     demand_forecast\n",
      "datetime                            \n",
      "2022-11-01 01:00:00       183.577710\n",
      "2022-11-01 02:00:00       168.061276\n",
      "2022-11-01 03:00:00       159.277841\n",
      "2022-11-01 04:00:00       156.136158\n",
      "2022-11-01 05:00:00       154.692672\n",
      "SANTA CRUZ\n",
      "Mean Absolute Error:     0.034 +/- 0.008\n",
      "Root Mean Squared Error: 0.042 +/- 0.009\n"
     ]
    },
    {
     "name": "stderr",
     "output_type": "stream",
     "text": [
      "/tmp/ipykernel_25011/4215263569.py:27: SettingWithCopyWarning: \n",
      "A value is trying to be set on a copy of a slice from a DataFrame.\n",
      "Try using .loc[row_indexer,col_indexer] = value instead\n",
      "\n",
      "See the caveats in the documentation: https://pandas.pydata.org/pandas-docs/stable/user_guide/indexing.html#returning-a-view-versus-a-copy\n",
      "  predict_dataset[\"demand_forecast\"] = predict_dataset[[\"day_type\", \"temperature\", \"month\", \"hour\", \"weekday\"]].apply(\n",
      "/tmp/ipykernel_25011/4215263569.py:30: SettingWithCopyWarning: \n",
      "A value is trying to be set on a copy of a slice from a DataFrame\n",
      "\n",
      "See the caveats in the documentation: https://pandas.pydata.org/pandas-docs/stable/user_guide/indexing.html#returning-a-view-versus-a-copy\n",
      "  predict_dataset.drop(columns=[\"month\", \"hour\", \"weekday\", \"day_type\", \"temperature\", \"demand\"], inplace=True)\n",
      "/tmp/ipykernel_25011/4215263569.py:31: SettingWithCopyWarning: \n",
      "A value is trying to be set on a copy of a slice from a DataFrame.\n",
      "Try using .loc[row_indexer,col_indexer] = value instead\n",
      "\n",
      "See the caveats in the documentation: https://pandas.pydata.org/pandas-docs/stable/user_guide/indexing.html#returning-a-view-versus-a-copy\n",
      "  predict_dataset[\"demand_forecast\"] = predict_dataset[\"demand_forecast\"] * max_demand\n"
     ]
    },
    {
     "name": "stdout",
     "output_type": "stream",
     "text": [
      "                     demand_forecast\n",
      "datetime                            \n",
      "2022-11-01 01:00:00       136.119687\n",
      "2022-11-01 02:00:00       130.094526\n",
      "2022-11-01 03:00:00       126.864981\n",
      "2022-11-01 04:00:00       124.955844\n",
      "2022-11-01 05:00:00       121.975063\n",
      "SANTA FE\n",
      "Mean Absolute Error:     0.037 +/- 0.012\n",
      "Root Mean Squared Error: 0.045 +/- 0.013\n"
     ]
    },
    {
     "name": "stderr",
     "output_type": "stream",
     "text": [
      "/tmp/ipykernel_25011/4215263569.py:27: SettingWithCopyWarning: \n",
      "A value is trying to be set on a copy of a slice from a DataFrame.\n",
      "Try using .loc[row_indexer,col_indexer] = value instead\n",
      "\n",
      "See the caveats in the documentation: https://pandas.pydata.org/pandas-docs/stable/user_guide/indexing.html#returning-a-view-versus-a-copy\n",
      "  predict_dataset[\"demand_forecast\"] = predict_dataset[[\"day_type\", \"temperature\", \"month\", \"hour\", \"weekday\"]].apply(\n",
      "/tmp/ipykernel_25011/4215263569.py:30: SettingWithCopyWarning: \n",
      "A value is trying to be set on a copy of a slice from a DataFrame\n",
      "\n",
      "See the caveats in the documentation: https://pandas.pydata.org/pandas-docs/stable/user_guide/indexing.html#returning-a-view-versus-a-copy\n",
      "  predict_dataset.drop(columns=[\"month\", \"hour\", \"weekday\", \"day_type\", \"temperature\", \"demand\"], inplace=True)\n",
      "/tmp/ipykernel_25011/4215263569.py:31: SettingWithCopyWarning: \n",
      "A value is trying to be set on a copy of a slice from a DataFrame.\n",
      "Try using .loc[row_indexer,col_indexer] = value instead\n",
      "\n",
      "See the caveats in the documentation: https://pandas.pydata.org/pandas-docs/stable/user_guide/indexing.html#returning-a-view-versus-a-copy\n",
      "  predict_dataset[\"demand_forecast\"] = predict_dataset[\"demand_forecast\"] * max_demand\n"
     ]
    },
    {
     "name": "stdout",
     "output_type": "stream",
     "text": [
      "                     demand_forecast\n",
      "datetime                            \n",
      "2022-11-01 01:00:00      1139.293031\n",
      "2022-11-01 02:00:00      1076.755188\n",
      "2022-11-01 03:00:00      1041.159806\n",
      "2022-11-01 04:00:00      1029.964189\n",
      "2022-11-01 05:00:00      1039.039140\n",
      "SANTIAGO DEL ESTERO\n",
      "Mean Absolute Error:     0.033 +/- 0.013\n",
      "Root Mean Squared Error: 0.042 +/- 0.015\n"
     ]
    },
    {
     "name": "stderr",
     "output_type": "stream",
     "text": [
      "/tmp/ipykernel_25011/4215263569.py:27: SettingWithCopyWarning: \n",
      "A value is trying to be set on a copy of a slice from a DataFrame.\n",
      "Try using .loc[row_indexer,col_indexer] = value instead\n",
      "\n",
      "See the caveats in the documentation: https://pandas.pydata.org/pandas-docs/stable/user_guide/indexing.html#returning-a-view-versus-a-copy\n",
      "  predict_dataset[\"demand_forecast\"] = predict_dataset[[\"day_type\", \"temperature\", \"month\", \"hour\", \"weekday\"]].apply(\n",
      "/tmp/ipykernel_25011/4215263569.py:30: SettingWithCopyWarning: \n",
      "A value is trying to be set on a copy of a slice from a DataFrame\n",
      "\n",
      "See the caveats in the documentation: https://pandas.pydata.org/pandas-docs/stable/user_guide/indexing.html#returning-a-view-versus-a-copy\n",
      "  predict_dataset.drop(columns=[\"month\", \"hour\", \"weekday\", \"day_type\", \"temperature\", \"demand\"], inplace=True)\n",
      "/tmp/ipykernel_25011/4215263569.py:31: SettingWithCopyWarning: \n",
      "A value is trying to be set on a copy of a slice from a DataFrame.\n",
      "Try using .loc[row_indexer,col_indexer] = value instead\n",
      "\n",
      "See the caveats in the documentation: https://pandas.pydata.org/pandas-docs/stable/user_guide/indexing.html#returning-a-view-versus-a-copy\n",
      "  predict_dataset[\"demand_forecast\"] = predict_dataset[\"demand_forecast\"] * max_demand\n"
     ]
    },
    {
     "name": "stdout",
     "output_type": "stream",
     "text": [
      "                     demand_forecast\n",
      "datetime                            \n",
      "2022-11-01 01:00:00       128.812100\n",
      "2022-11-01 02:00:00       111.934148\n",
      "2022-11-01 03:00:00        98.249957\n",
      "2022-11-01 04:00:00        97.198531\n",
      "2022-11-01 05:00:00       102.779824\n",
      "TUCUMAN\n",
      "Mean Absolute Error:     0.026 +/- 0.009\n",
      "Root Mean Squared Error: 0.033 +/- 0.011\n",
      "                     demand_forecast\n",
      "datetime                            \n",
      "2022-11-01 01:00:00       291.988874\n",
      "2022-11-01 02:00:00       263.164742\n",
      "2022-11-01 03:00:00       240.533409\n",
      "2022-11-01 04:00:00       229.351003\n",
      "2022-11-01 05:00:00       227.040282\n"
     ]
    },
    {
     "name": "stderr",
     "output_type": "stream",
     "text": [
      "/tmp/ipykernel_25011/4215263569.py:27: SettingWithCopyWarning: \n",
      "A value is trying to be set on a copy of a slice from a DataFrame.\n",
      "Try using .loc[row_indexer,col_indexer] = value instead\n",
      "\n",
      "See the caveats in the documentation: https://pandas.pydata.org/pandas-docs/stable/user_guide/indexing.html#returning-a-view-versus-a-copy\n",
      "  predict_dataset[\"demand_forecast\"] = predict_dataset[[\"day_type\", \"temperature\", \"month\", \"hour\", \"weekday\"]].apply(\n",
      "/tmp/ipykernel_25011/4215263569.py:30: SettingWithCopyWarning: \n",
      "A value is trying to be set on a copy of a slice from a DataFrame\n",
      "\n",
      "See the caveats in the documentation: https://pandas.pydata.org/pandas-docs/stable/user_guide/indexing.html#returning-a-view-versus-a-copy\n",
      "  predict_dataset.drop(columns=[\"month\", \"hour\", \"weekday\", \"day_type\", \"temperature\", \"demand\"], inplace=True)\n",
      "/tmp/ipykernel_25011/4215263569.py:31: SettingWithCopyWarning: \n",
      "A value is trying to be set on a copy of a slice from a DataFrame.\n",
      "Try using .loc[row_indexer,col_indexer] = value instead\n",
      "\n",
      "See the caveats in the documentation: https://pandas.pydata.org/pandas-docs/stable/user_guide/indexing.html#returning-a-view-versus-a-copy\n",
      "  predict_dataset[\"demand_forecast\"] = predict_dataset[\"demand_forecast\"] * max_demand\n"
     ]
    }
   ],
   "source": [
    "for region_dict in region_dicts:\n",
    "    region = region_dict[\"region\"]\n",
    "    print(region)\n",
    "    dataset = get_demand(client, region)\n",
    "    dataset.drop(columns=[\"region\"], inplace=True)\n",
    "    dataset.drop(columns=[\"id\", \"demand_forecast\"], inplace=True)\n",
    "    dataset['month'] = dataset.index.month\n",
    "    dataset['hour'] = dataset.index.hour\n",
    "    dataset[\"weekday\"] = dataset.index.weekday\n",
    "    max_demand = dataset[\"demand\"].max()\n",
    "    dataset[\"demand\"] = dataset[\"demand\"] / max_demand\n",
    "    dataset[\"temperature\"].fillna(dataset[\"temperature_forecast\"], inplace=True)\n",
    "    dataset.sort_index(inplace=True)\n",
    "    dataset[\"temperature\"] = dataset[\"temperature\"].interpolate(method='linear').ffill()\n",
    "    dataset.drop(columns=[\"temperature_forecast\"], inplace=True)\n",
    "    predict_dataset = dataset[dataset[\"demand\"].isnull()]\n",
    "    train_dataset = dataset[~dataset[\"demand\"].isnull()]\n",
    "\n",
    "    y = train_dataset[\"demand\"]\n",
    "    X = train_dataset.drop(columns=[\"demand\"])\n",
    "\n",
    "    evaluate(cyclic_spline_poly_pipeline, X, y, cv=ts_cv)\n",
    "\n",
    "    cyclic_spline_poly_pipeline.fit(X, y)\n",
    "\n",
    "    model = cyclic_spline_poly_pipeline\n",
    "    predict_dataset[\"demand_forecast\"] = predict_dataset[[\"day_type\", \"temperature\", \"month\", \"hour\", \"weekday\"]].apply(\n",
    "            lambda s: model.predict(pd.DataFrame([s]))[0], axis=1\n",
    "        )\n",
    "    predict_dataset.drop(columns=[\"month\", \"hour\", \"weekday\", \"day_type\", \"temperature\", \"demand\"], inplace=True)\n",
    "    predict_dataset[\"demand_forecast\"] = predict_dataset[\"demand_forecast\"] * max_demand\n",
    "    print(predict_dataset.head())"
   ]
  }
 ],
 "metadata": {
  "kernelspec": {
   "display_name": "Python 3.8.10 ('.venv': poetry)",
   "language": "python",
   "name": "python3"
  },
  "language_info": {
   "codemirror_mode": {
    "name": "ipython",
    "version": 3
   },
   "file_extension": ".py",
   "mimetype": "text/x-python",
   "name": "python",
   "nbconvert_exporter": "python",
   "pygments_lexer": "ipython3",
   "version": "3.8.10"
  },
  "orig_nbformat": 4,
  "vscode": {
   "interpreter": {
    "hash": "9ec20edcad6d6d62fe51078a948e4adfa4e6fe49396f513e0f73622f3ee2b845"
   }
  }
 },
 "nbformat": 4,
 "nbformat_minor": 2
}
